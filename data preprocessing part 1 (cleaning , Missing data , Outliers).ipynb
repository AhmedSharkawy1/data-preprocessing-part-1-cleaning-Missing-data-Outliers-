{
 "cells": [
  {
   "cell_type": "markdown",
   "id": "2d943532-dc45-4801-a5ae-2c1f5836cb96",
   "metadata": {},
   "source": [
    "## Part 1 - Data Cleaning\n",
    "### Step 1: Check Dataset Structure"
   ]
  },
  {
   "cell_type": "code",
   "execution_count": 3,
   "id": "fe8bb5d8-99c4-4120-aa09-0989ef9ae7ed",
   "metadata": {},
   "outputs": [
    {
     "name": "stdout",
     "output_type": "stream",
     "text": [
      "Dataset shape: (77, 11)\n",
      "\n",
      "Dataset info:\n",
      "<class 'pandas.core.frame.DataFrame'>\n",
      "RangeIndex: 77 entries, 0 to 76\n",
      "Data columns (total 11 columns):\n",
      " #   Column         Non-Null Count  Dtype  \n",
      "---  ------         --------------  -----  \n",
      " 0   fNAME          77 non-null     object \n",
      " 1   lNAME          77 non-null     object \n",
      " 2   Age            77 non-null     int64  \n",
      " 3   gender         77 non-null     object \n",
      " 4   country        77 non-null     object \n",
      " 5   residence      77 non-null     object \n",
      " 6   entryEXAM      77 non-null     int64  \n",
      " 7   prevEducation  77 non-null     object \n",
      " 8   studyHOURS     77 non-null     int64  \n",
      " 9   Python         75 non-null     float64\n",
      " 10  DB             77 non-null     int64  \n",
      "dtypes: float64(1), int64(4), object(6)\n",
      "memory usage: 6.7+ KB\n",
      "None\n",
      "\n",
      "First 5 rows:\n",
      "       fNAME      lNAME  Age  gender       country  residence  entryEXAM  \\\n",
      "0  Christina     Binger   44  Female        Norway    Private         72   \n",
      "1       Alex   Walekhwa   60       M         Kenya    Private         79   \n",
      "2     Philip        Leo   25    Male        Uganda  Sognsvann         55   \n",
      "3      Shoni  Hlongwane   22       F           Rsa  Sognsvann         40   \n",
      "4      Maria   Kedibone   23  Female  South Africa  Sognsvann         65   \n",
      "\n",
      "  prevEducation  studyHOURS  Python  DB  \n",
      "0       Masters         158    59.0  55  \n",
      "1       Diploma         150    60.0  75  \n",
      "2    HighSchool         130    74.0  50  \n",
      "3   High School         120     NaN  44  \n",
      "4   High School         122    91.0  80  \n"
     ]
    }
   ],
   "source": [
    "import pandas as pd\n",
    "import numpy as np\n",
    "import seaborn as sns\n",
    "import matplotlib.pyplot as plt\n",
    "\n",
    "df = pd.read_excel(r\"C:\\Users\\20111\\Downloads\\bi.xlsx\")\n",
    "\n",
    "print(\"Dataset shape:\", df.shape)\n",
    "print(\"\\nDataset info:\")\n",
    "print(df.info())\n",
    "print(\"\\nFirst 5 rows:\")\n",
    "print(df.head())"
   ]
  },
  {
   "cell_type": "markdown",
   "id": "a650576d-6810-4d93-b54b-71719952cc78",
   "metadata": {},
   "source": [
    "## Step 2: Detect and Fix Inconsistent Categories"
   ]
  },
  {
   "cell_type": "markdown",
   "id": "331d43a8-cced-4f03-9e7c-929032c2874f",
   "metadata": {},
   "source": [
    "### Gender inconsistencies"
   ]
  },
  {
   "cell_type": "code",
   "execution_count": 5,
   "id": "210d47ad-5596-4abd-b377-256567110be7",
   "metadata": {},
   "outputs": [
    {
     "name": "stdout",
     "output_type": "stream",
     "text": [
      "Gender unique values: ['Female' 'M' 'Male' 'F' 'female' 'male']\n"
     ]
    }
   ],
   "source": [
    "print(\"Gender unique values:\", df['gender'].unique())\n"
   ]
  },
  {
   "cell_type": "markdown",
   "id": "f3ef2f82-037b-4238-8fd5-cefb189f731f",
   "metadata": {},
   "source": [
    "### Country inconsistencies\n",
    "\n"
   ]
  },
  {
   "cell_type": "code",
   "execution_count": 7,
   "id": "23f64747-b9a7-4b71-8761-852e00940384",
   "metadata": {},
   "outputs": [
    {
     "name": "stdout",
     "output_type": "stream",
     "text": [
      "Country unique values: ['Norway' 'Kenya' 'Uganda' 'Rsa' 'South Africa' 'Norge' 'norway' 'Denmark'\n",
      " 'Netherlands' 'Italy' 'Spain' 'UK' 'Somali' 'Nigeria' 'Germany' 'France']\n"
     ]
    }
   ],
   "source": [
    "print(\"Country unique values:\", df['country'].unique())\n"
   ]
  },
  {
   "cell_type": "markdown",
   "id": "0b134920-b96f-4fbf-b2f1-117d52e2f4c0",
   "metadata": {},
   "source": [
    "### Education inconsistencies\n",
    "\n"
   ]
  },
  {
   "cell_type": "code",
   "execution_count": 9,
   "id": "29bd41ec-6448-40c4-a151-bc37f97d2b62",
   "metadata": {},
   "outputs": [
    {
     "name": "stdout",
     "output_type": "stream",
     "text": [
      "Education unique values: ['Masters' 'Diploma' 'HighSchool' 'High School' 'Bachelors' 'Barrrchelors'\n",
      " 'diploma' 'DIPLOMA' 'Diplomaaa' 'Doctorate']\n"
     ]
    }
   ],
   "source": [
    "print(\"Education unique values:\", df['prevEducation'].unique())\n"
   ]
  },
  {
   "cell_type": "markdown",
   "id": "7707e8e5-d964-4b4a-8c96-ecfc51b8eb10",
   "metadata": {},
   "source": [
    "### residence inconsistencies"
   ]
  },
  {
   "cell_type": "code",
   "execution_count": 11,
   "id": "7ca1320a-cee5-4c3e-a996-2fd41e1cf472",
   "metadata": {},
   "outputs": [
    {
     "name": "stdout",
     "output_type": "stream",
     "text": [
      "residence unique values: ['Private' 'Sognsvann' 'BI Residence' 'BI-Residence' 'BIResidence'\n",
      " 'BI_Residence']\n"
     ]
    }
   ],
   "source": [
    "print(\"residence unique values:\", df['residence'].unique())"
   ]
  },
  {
   "cell_type": "markdown",
   "id": "664e65e8-f9b4-4601-9788-3479a01d8528",
   "metadata": {},
   "source": [
    "### Fixing the inconsistencies\n",
    "\n"
   ]
  },
  {
   "cell_type": "markdown",
   "id": "8681e17c-ef09-45c2-a30c-7230cbee6620",
   "metadata": {},
   "source": [
    "#### Fix gender\n"
   ]
  },
  {
   "cell_type": "code",
   "execution_count": 13,
   "id": "8edac296-3be0-4532-b986-01026af32f3b",
   "metadata": {},
   "outputs": [],
   "source": [
    "df['gender'] = df['gender'].str.strip().str.lower()\n",
    "df['gender'] = df['gender'].replace({'m': 'male', 'f': 'female'})"
   ]
  },
  {
   "cell_type": "markdown",
   "id": "2e7128f6-0989-4bed-bac5-d2f57c13b195",
   "metadata": {},
   "source": [
    "#### Fix country\n"
   ]
  },
  {
   "cell_type": "code",
   "execution_count": 53,
   "id": "2335dde7-374a-4ad1-ba9a-75e780ab8a39",
   "metadata": {},
   "outputs": [],
   "source": [
    "\n",
    "df['country'] = df['country'].str.strip().str.title()\n",
    "df['country'] = df['country'].replace({\n",
    "    'Rsa': 'Rusia',\n",
    "    'Norge': 'Norway',\n",
    "    'Uk':'United kingdom'\n",
    "})\n"
   ]
  },
  {
   "cell_type": "markdown",
   "id": "1a354de6-370c-4a74-9433-0da9d59a725c",
   "metadata": {},
   "source": [
    "#### Fix education"
   ]
  },
  {
   "cell_type": "code",
   "execution_count": 19,
   "id": "dfe7a27f-c3fc-44d5-a63b-18028ffe1d81",
   "metadata": {},
   "outputs": [],
   "source": [
    "df['prevEducation'] = df['prevEducation'].str.strip().str.title()\n",
    "df['prevEducation'] = df['prevEducation'].replace({\n",
    "    'Highschool': 'High School',\n",
    "    'Barrrchelors': 'Bachelors',\n",
    "    'Diplomaaa': 'Diploma',\n",
    "    'Dipoma': 'Diploma',\n",
    "    'DIPLOMA': 'Diploma'\n",
    "})"
   ]
  },
  {
   "cell_type": "code",
   "execution_count": 71,
   "id": "ad8abd5c-d728-4cff-aa3a-510fb6d791a1",
   "metadata": {},
   "outputs": [
    {
     "name": "stdout",
     "output_type": "stream",
     "text": [
      "Education unique values: ['Masters' 'Diploma' 'High School' 'Bachelors' 'Doctorate']\n"
     ]
    }
   ],
   "source": [
    "print(\"Education unique values:\", df['prevEducation'].unique())\n"
   ]
  },
  {
   "cell_type": "markdown",
   "id": "0ab34fe0-5c65-4709-b0db-b4f7465621fd",
   "metadata": {},
   "source": [
    "#### Fix residence"
   ]
  },
  {
   "cell_type": "code",
   "execution_count": 89,
   "id": "cde53890-efbe-4702-ac98-22bf99da775b",
   "metadata": {},
   "outputs": [],
   "source": [
    "df['residence'] = df['residence'].str.strip().str.title()\n",
    "df['residence'] = df['residence'].replace({\n",
    "    'Bi-Residence': 'Bi Residence',\n",
    "    'Biresidence': 'Bi Residence',\n",
    "    'Bi_Residence': 'Bi Residence'\n",
    "})"
   ]
  },
  {
   "cell_type": "code",
   "execution_count": 91,
   "id": "0854dca2-5d16-4c4d-8ad6-d1fbf86fb193",
   "metadata": {},
   "outputs": [
    {
     "name": "stdout",
     "output_type": "stream",
     "text": [
      "residence unique values: ['Private' 'Sognsvann' 'Bi Residence']\n"
     ]
    }
   ],
   "source": [
    "print(\"residence unique values:\", df['residence'].unique())"
   ]
  },
  {
   "cell_type": "code",
   "execution_count": 23,
   "id": "9fbbcdee-1374-41fd-89d4-fb1bd7f6f801",
   "metadata": {},
   "outputs": [
    {
     "name": "stdout",
     "output_type": "stream",
     "text": [
      "       fNAME      lNAME  Age  gender       country  residence  entryEXAM  \\\n",
      "0  Christina     Binger   44  female        Norway    Private         72   \n",
      "1       Alex   Walekhwa   60    male         Kenya    Private         79   \n",
      "2     Philip        Leo   25    male        Uganda  Sognsvann         55   \n",
      "3      Shoni  Hlongwane   22  female         Rusia  Sognsvann         40   \n",
      "4      Maria   Kedibone   23  female  South Africa  Sognsvann         65   \n",
      "\n",
      "  prevEducation  studyHOURS  Python  DB  \n",
      "0       Masters         158    59.0  55  \n",
      "1       Diploma         150    60.0  75  \n",
      "2   High School         130    74.0  50  \n",
      "3   High School         120     NaN  44  \n",
      "4   High School         122    91.0  80  \n"
     ]
    }
   ],
   "source": [
    "print(df.head())"
   ]
  },
  {
   "cell_type": "markdown",
   "id": "9df81f7e-6869-4e8a-9c13-5da3e7c7b5cd",
   "metadata": {},
   "source": [
    "## Step 3: Handle Duplicates\n"
   ]
  },
  {
   "cell_type": "code",
   "execution_count": 25,
   "id": "8bb95fc4-525c-477f-bdc5-ca6035b30a82",
   "metadata": {},
   "outputs": [
    {
     "name": "stdout",
     "output_type": "stream",
     "text": [
      "Number of duplicates: 0\n"
     ]
    }
   ],
   "source": [
    "print(\"Number of duplicates:\", df.duplicated().sum())\n",
    "df = df.drop_duplicates()"
   ]
  },
  {
   "cell_type": "markdown",
   "id": "3ead632c-5b6e-4848-acd6-3d68611f60f7",
   "metadata": {},
   "source": [
    "## Part 2 - Missing Data\n",
    "### Step 4: Identify Missing Values"
   ]
  },
  {
   "cell_type": "code",
   "execution_count": 27,
   "id": "a87a4d34-381e-4d11-8771-61b0e2030f6f",
   "metadata": {},
   "outputs": [
    {
     "name": "stdout",
     "output_type": "stream",
     "text": [
      "Missing values:\n",
      "fNAME            0\n",
      "lNAME            0\n",
      "Age              0\n",
      "gender           0\n",
      "country          0\n",
      "residence        0\n",
      "entryEXAM        0\n",
      "prevEducation    0\n",
      "studyHOURS       0\n",
      "Python           2\n",
      "DB               0\n",
      "dtype: int64\n"
     ]
    }
   ],
   "source": [
    "print(\"Missing values:\")\n",
    "print(df.isnull().sum())\n"
   ]
  },
  {
   "cell_type": "markdown",
   "id": "e10a25d0-451a-400d-ad76-5beafbb3a321",
   "metadata": {},
   "source": [
    "### Step 5: Impute Missing Values\n"
   ]
  },
  {
   "cell_type": "markdown",
   "id": "f10c7773-0caa-48c4-8cfb-b476749959a3",
   "metadata": {},
   "source": [
    "#### Fill missing Python scores with median (less sensitive to outliers)\n"
   ]
  },
  {
   "cell_type": "code",
   "execution_count": 29,
   "id": "15f186d6-adaa-4cca-9047-bb11c465de0b",
   "metadata": {},
   "outputs": [],
   "source": [
    "python_median = df['Python'].median()\n",
    "df['Python'] = df['Python'].fillna(python_median)"
   ]
  },
  {
   "cell_type": "markdown",
   "id": "5ad2e7b1-1ef9-4b3d-b488-1318b1a15bed",
   "metadata": {},
   "source": [
    "#### Verify no more missing values\n"
   ]
  },
  {
   "cell_type": "code",
   "execution_count": 31,
   "id": "1ef7d68d-8a1a-400f-b52b-e1a7f5e08f7a",
   "metadata": {},
   "outputs": [
    {
     "name": "stdout",
     "output_type": "stream",
     "text": [
      "Missing values after imputation:\n",
      "fNAME            0\n",
      "lNAME            0\n",
      "Age              0\n",
      "gender           0\n",
      "country          0\n",
      "residence        0\n",
      "entryEXAM        0\n",
      "prevEducation    0\n",
      "studyHOURS       0\n",
      "Python           0\n",
      "DB               0\n",
      "dtype: int64\n"
     ]
    }
   ],
   "source": [
    "print(\"Missing values after imputation:\")\n",
    "print(df.isnull().sum())"
   ]
  },
  {
   "cell_type": "markdown",
   "id": "f14734e0-8052-48e9-b35b-d9bc057c6e4b",
   "metadata": {},
   "source": [
    "## Part 3 - Outliers\n",
    "### Step 6: Detect Outliers"
   ]
  },
  {
   "cell_type": "markdown",
   "id": "cee8d07f-22af-4949-a6ea-95d1e04d800f",
   "metadata": {},
   "source": [
    "#### Summary statistics\n"
   ]
  },
  {
   "cell_type": "code",
   "execution_count": 33,
   "id": "600d5003-354f-4e9b-84f5-11cf6199610f",
   "metadata": {},
   "outputs": [
    {
     "name": "stdout",
     "output_type": "stream",
     "text": [
      "Python stats:\n",
      "count    77.000000\n",
      "mean     75.987013\n",
      "std      15.228517\n",
      "min      15.000000\n",
      "25%      72.000000\n",
      "50%      81.000000\n",
      "75%      85.000000\n",
      "max      91.000000\n",
      "Name: Python, dtype: float64\n",
      "\n",
      "DB stats:\n",
      "count     77.000000\n",
      "mean      69.467532\n",
      "std       17.033701\n",
      "min       30.000000\n",
      "25%       56.000000\n",
      "50%       71.000000\n",
      "75%       83.000000\n",
      "max      100.000000\n",
      "Name: DB, dtype: float64\n",
      "\n",
      "Study hours stats:\n",
      "count     77.000000\n",
      "mean     149.714286\n",
      "std       12.743272\n",
      "min      114.000000\n",
      "25%      144.000000\n",
      "50%      156.000000\n",
      "75%      158.000000\n",
      "max      160.000000\n",
      "Name: studyHOURS, dtype: float64\n"
     ]
    }
   ],
   "source": [
    "print(\"Python stats:\")\n",
    "print(df['Python'].describe())\n",
    "print(\"\\nDB stats:\")\n",
    "print(df['DB'].describe())\n",
    "print(\"\\nStudy hours stats:\")\n",
    "print(df['studyHOURS'].describe())\n",
    "\n"
   ]
  },
  {
   "cell_type": "markdown",
   "id": "6646d115-84df-4137-b4c2-9053934b0d46",
   "metadata": {},
   "source": [
    "#### Boxplots"
   ]
  },
  {
   "cell_type": "code",
   "execution_count": 35,
   "id": "8704ecea-2b3f-44a7-99dd-bc7c17f6c9cc",
   "metadata": {},
   "outputs": [
    {
     "data": {
      "image/png": "[encoded data removed]",
      "text/plain": [
       "<Figure size 1500x500 with 3 Axes>"
      ]
     },
     "metadata": {},
     "output_type": "display_data"
    }
   ],
   "source": [
    "plt.figure(figsize=(15, 5))\n",
    "plt.subplot(1, 3, 1)\n",
    "sns.boxplot(y=df['Python'])\n",
    "plt.title('Python Scores')\n",
    "\n",
    "plt.subplot(1, 3, 2)\n",
    "sns.boxplot(y=df['DB'])\n",
    "plt.title('DB Scores')\n",
    "\n",
    "plt.subplot(1, 3, 3)\n",
    "sns.boxplot(y=df['studyHOURS'])\n",
    "plt.title('Study Hours')\n",
    "plt.show()"
   ]
  },
  {
   "cell_type": "markdown",
   "id": "feeb5216-f746-4f33-a7df-29c092bf10c8",
   "metadata": {},
   "source": [
    "## Step 7: Handle Outliers\n",
    "### Remove unrealistic scores (<0 or >100)\n"
   ]
  },
  {
   "cell_type": "code",
   "execution_count": 37,
   "id": "17605f5e-8653-4e20-a88f-0302f3c1259d",
   "metadata": {},
   "outputs": [],
   "source": [
    "df = df[(df['Python'] >= 0) & (df['Python'] <= 100)]\n",
    "df = df[(df['DB'] >= 0) & (df['DB'] <= 100)]"
   ]
  },
  {
   "cell_type": "markdown",
   "id": "19c246bc-8205-43f3-be26-295050d9d465",
   "metadata": {},
   "source": [
    "### For study hours, use IQR method"
   ]
  },
  {
   "cell_type": "code",
   "execution_count": 39,
   "id": "d006c9fa-59cd-4d75-be68-3c48ae67077a",
   "metadata": {},
   "outputs": [],
   "source": [
    "Q1 = df['studyHOURS'].quantile(0.25)\n",
    "Q3 = df['studyHOURS'].quantile(0.75)\n",
    "IQR = Q3 - Q1\n",
    "lower_bound = Q1 - 1.5 * IQR\n",
    "upper_bound = Q3 + 1.5 * IQR\n",
    "\n",
    "df = df[(df['studyHOURS'] >= lower_bound) & (df['studyHOURS'] <= upper_bound)]"
   ]
  },
  {
   "cell_type": "markdown",
   "id": "0992e700-2c85-4fe8-b1da-3ceed866745c",
   "metadata": {},
   "source": [
    "## Final Cleaning and Export\n"
   ]
  },
  {
   "cell_type": "markdown",
   "id": "8f0150ca-5cea-4879-afa0-d13f3987ab9a",
   "metadata": {},
   "source": [
    "### Reset index and Save cleaned dataset"
   ]
  },
  {
   "cell_type": "code",
   "execution_count": 97,
   "id": "1958ff78-f21c-46f2-960a-a382b35b0179",
   "metadata": {},
   "outputs": [
    {
     "ename": "SyntaxError",
     "evalue": "(unicode error) 'unicodeescape' codec can't decode bytes in position 2-3: truncated \\UXXXXXXXX escape (1886661715.py, line 3)",
     "output_type": "error",
     "traceback": [
      "\u001b[1;36m  Cell \u001b[1;32mIn[97], line 3\u001b[1;36m\u001b[0m\n\u001b[1;33m    df.to_csv('C:\\Users\\20111\\Downloads\\cleaned_students.csv', index=False)\u001b[0m\n\u001b[1;37m              ^\u001b[0m\n\u001b[1;31mSyntaxError\u001b[0m\u001b[1;31m:\u001b[0m (unicode error) 'unicodeescape' codec can't decode bytes in position 2-3: truncated \\UXXXXXXXX escape\n"
     ]
    }
   ],
   "source": [
    "df = df.reset_index(drop=True)\n",
    "\n",
    "df.to_csv('C:\\Users\\20111\\Downloadscleaned_students.csv', index=False)\n",
    "\n",
    "print(\"Final dataset shape:\", df.shape)\n",
    "print(\"\\nCleaning completed successfully!\")"
   ]
  },
  {
   "cell_type": "code",
   "execution_count": null,
   "id": "a61f10c8-2c9d-4a47-9a3c-1df0108115bb",
   "metadata": {},
   "outputs": [],
   "source": []
  }
 ],
 "metadata": {
  "kernelspec": {
   "display_name": "Python [conda env:base] *",
   "language": "python",
   "name": "conda-base-py"
  },
  "language_info": {
   "codemirror_mode": {
    "name": "ipython",
    "version": 3
   },
   "file_extension": ".py",
   "mimetype": "text/x-python",
   "name": "python",
   "nbconvert_exporter": "python",
   "pygments_lexer": "ipython3",
   "version": "3.12.7"
  }
 },
 "nbformat": 4,
 "nbformat_minor": 5
}
